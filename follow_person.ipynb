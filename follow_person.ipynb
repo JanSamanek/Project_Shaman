{
 "cells": [
  {
   "cell_type": "code",
   "execution_count": 1,
   "metadata": {},
   "outputs": [],
   "source": [
    "from IPython.display import display\n",
    "import ipywidgets.widgets as widgets\n",
    "from jetbot import bgr8_to_jpeg\n",
    "from jetbot.camera.zmq_camera import ZmqCamera as Camera\n",
    "\n",
    "from IPython.display import display\n",
    "import ipywidgets.widgets as widgets\n",
    "from jetbot import bgr8_to_jpeg"
   ]
  },
  {
   "cell_type": "code",
   "execution_count": 2,
   "metadata": {},
   "outputs": [],
   "source": [
    "import cv2 as cv\n",
    "from center_tracker import PersonTracker\n",
    "import torch\n",
    "from jetbot import ObjectDetector\n",
    "\n",
    "\n",
    "class Follower:\n",
    "\n",
    "    def __init__(self):\n",
    "        self.model = ObjectDetector('ssd_mobilenet_v2_coco.engine')\n",
    "        self.results = None\n",
    "        self.trackable_objects = None\n",
    "        self.tracked_to = None\n",
    "        self.pt = None\n",
    "\n",
    "    def init_tracking(self, bbox):\n",
    "        centre_to = Follower._center(bbox)\n",
    "        self.pt = PersonTracker(centre_to)\n",
    "\n",
    "    def _predict(self, img):\n",
    "        self.detections = self.model(img)\n",
    "\n",
    "    def _post_process(self):\n",
    "        boxes = []\n",
    "        for detection in self.detections[0]:\n",
    "            boxes.append(detection['bbox'])\n",
    "            \n",
    "        return boxes\n",
    "\n",
    "    def track(self, img):\n",
    "\n",
    "        self._predict(img)\n",
    "\n",
    "        boxes = self._post_process()\n",
    "\n",
    "        for box in boxes:\n",
    "            Follower._draw_boxes(img, *box, color=(61, 254, 96))\n",
    "\n",
    "        if self.pt is not None:\n",
    "            self.trackable_objects = self.pt.update(boxes)\n",
    "            self.tracked_to = self.trackable_objects.get(0, None)\n",
    "\n",
    "            for to in self.trackable_objects.values():\n",
    "                if to.ID == 0:\n",
    "                    img = Follower._draw_id(img, to.ID, to.centroid, (18, 13, 212))\n",
    "                elif to.disappeared_count > 0:\n",
    "                    img = Follower._draw_id(img, to.ID, to.predicted_centroid, (253, 63, 28))\n",
    "                else:\n",
    "                    img = Follower._draw_id(img, to.ID, to.centroid, (61, 254, 96))\n",
    "\n",
    "        return img\n",
    "\n",
    "    @staticmethod\n",
    "    def _draw_id(image, objectID, centroid, color):\n",
    "        GREEN = color\n",
    "        text = \"ID {}\".format(objectID)\n",
    "        cv.putText(image, text, (int(centroid[0]) - 10, int(centroid[1]) - 10),\n",
    "                   cv.FONT_HERSHEY_SIMPLEX, 0.5, GREEN, 2)\n",
    "        cv.circle(image, (int(centroid[0]), int(centroid[1])), 4, GREEN, -1)\n",
    "        return image\n",
    "\n",
    "    @staticmethod\n",
    "    def _draw_boxes(image, x_min, y_min, x_max, y_max, color):\n",
    "        cv.rectangle(image, (x_min, y_min), (x_max, y_max), color, 2)\n",
    "        return image\n",
    "\n",
    "    @staticmethod\n",
    "    def _center(bbox):\n",
    "        center_x = int((bbox[0] + bbox[2]) / 2.0)\n",
    "        center_y = int((bbox[1] + bbox[3]) / 2.0)\n",
    "        return (center_x, center_y)\n",
    "\n"
   ]
  },
  {
   "cell_type": "code",
   "execution_count": 3,
   "metadata": {},
   "outputs": [],
   "source": [
    "def main():\n",
    "    cap = Video\n",
    "\n",
    "    while True:\n",
    "        # reading the image from video capture\n",
    "        img = camera.value\n",
    "\n",
    "        img = follower.track(img)\n",
    "        \n",
    "        image_widget.value = bgr8_to_jpeg(img)\n",
    "        display(image_widget)\n",
    "        \n",
    "        if follower.tracked_to is not None:\n",
    "            if follower.tracked_to.box is not None:\n",
    "                to_box = follower.tracked_to.box\n",
    "                print(\"to box: \", to_box)\n",
    "\n",
    "        if cv.waitKey(1) & 0xFF == ord('s'):\n",
    "            cv.destroyAllWindows()\n",
    "            tb_box = cv.selectROI(\"Select object for tracking\", img, fromCenter=False, showCrosshair=False)\n",
    "            yolo.init_tracking(tb_box)\n",
    "            cv.destroyWindow(\"Select object for tracking\")\n",
    "            \n",
    "        if 0xFF == ord('q'):\n",
    "            break\n",
    "            \n",
    "        camera.unobserve_all()\n",
    "    \n",
    "    camera.stop()\n",
    "    cv.destroyAllWindows()"
   ]
  },
  {
   "cell_type": "code",
   "execution_count": 4,
   "metadata": {},
   "outputs": [
    {
     "data": {
      "application/vnd.jupyter.widget-view+json": {
       "model_id": "b405be14ae3148989ba43a063d725552",
       "version_major": 2,
       "version_minor": 0
      },
      "text/plain": [
       "Image(value=b'', format='jpeg', height='300', width='300')"
      ]
     },
     "metadata": {},
     "output_type": "display_data"
    }
   ],
   "source": [
    "follower = Follower()\n",
    "camera = Camera.instance(width=300, height=300)\n",
    "img_widget = widgets.Image(format='jpeg', width=300, height=300)\n",
    "display(img_widget)\n",
    "\n",
    "def execute(change):\n",
    "    img = change['new']\n",
    "    img = follower.track(img)\n",
    "    img_widget.value = bgr8_to_jpeg(img)\n",
    "\n",
    "execute({'new':camera.value})"
   ]
  },
  {
   "cell_type": "code",
   "execution_count": 5,
   "metadata": {},
   "outputs": [],
   "source": [
    "camera.unobserve_all()\n",
    "camera.observe(execute, names='value')"
   ]
  }
 ],
 "metadata": {
  "kernelspec": {
   "display_name": "Python 3",
   "language": "python",
   "name": "python3"
  },
  "language_info": {
   "codemirror_mode": {
    "name": "ipython",
    "version": 3
   },
   "file_extension": ".py",
   "mimetype": "text/x-python",
   "name": "python",
   "nbconvert_exporter": "python",
   "pygments_lexer": "ipython3",
   "version": "3.6.9"
  }
 },
 "nbformat": 4,
 "nbformat_minor": 4
}
